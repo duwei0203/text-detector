{
 "cells": [
  {
   "cell_type": "code",
   "execution_count": 1,
   "metadata": {
    "collapsed": true
   },
   "outputs": [],
   "source": [
    "import numpy as np\n",
    "import pandas as pd\n",
    "import matplotlib.pylab as plt\n",
    "import seaborn as sns\n",
    "%matplotlib inline"
   ]
  },
  {
   "cell_type": "code",
   "execution_count": 11,
   "metadata": {
    "collapsed": false
   },
   "outputs": [
    {
     "name": "stdout",
     "output_type": "stream",
     "text": [
      "number of buttons: \n",
      "     350\n",
      "total 10544\n",
      "-rwxr-xr-x@ 1 truepk  staff  20695 14 Mar 15:08 09.png\n",
      "-rwxr-xr-x@ 1 truepk  staff   1028 14 Mar 15:08 1.png\n",
      "-rwxr-xr-x@ 1 truepk  staff  12780 14 Mar 15:08 1095.png\n",
      "-rwxr-xr-x@ 1 truepk  staff   9664 14 Mar 15:08 1106.png\n",
      "-rwxr-xr-x@ 1 truepk  staff  18666 14 Mar 15:08 1109.png\n"
     ]
    }
   ],
   "source": [
    "!echo 'number of buttons: ' && ls -l './buttons/' | wc -l\n",
    "!ls -lt './buttons/' | head -6"
   ]
  },
  {
   "cell_type": "code",
   "execution_count": 76,
   "metadata": {
    "collapsed": false
   },
   "outputs": [],
   "source": [
    "from PIL import Image\n",
    "\n",
    "import matplotlib.image as mpimg\n",
    "from matplotlib.pyplot import imshow\n",
    "from sklearn.preprocessing import binarize\n",
    "\n",
    "def rgb2gray(rgb):\n",
    "    return np.dot(rgb[...,:3], [0.299, 0.587, 0.114])\n",
    "\n",
    "im = Image.open(\"./buttons/09.png\")\n",
    "img_data = np.asarray(im)\n",
    "img_gr_data = rgb2gray(img_data).astype(np.int32)\n",
    "img_bin_data = binarize(img_gr_data, threshold=250)\n",
    "img_1d_data = img_bin_data.ravel()"
   ]
  },
  {
   "cell_type": "code",
   "execution_count": 75,
   "metadata": {
    "collapsed": false
   },
   "outputs": [
    {
     "data": {
      "image/png": "[encoded data removed]",
      "text/plain": [
       "<matplotlib.figure.Figure at 0x114b05490>"
      ]
     },
     "metadata": {},
     "output_type": "display_data"
    },
    {
     "data": {
      "image/png": "[encoded data removed]",
      "text/plain": [
       "<matplotlib.figure.Figure at 0x114b19410>"
      ]
     },
     "metadata": {},
     "output_type": "display_data"
    },
    {
     "data": {
      "image/png": "[encoded data removed]",
      "text/plain": [
       "<matplotlib.figure.Figure at 0x113928fd0>"
      ]
     },
     "metadata": {},
     "output_type": "display_data"
    }
   ],
   "source": [
    "imshow(img_data)\n",
    "plt.show()\n",
    "\n",
    "imshow(img_gr_data)\n",
    "plt.show()\n",
    "\n",
    "imshow(img_bin_data)\n",
    "plt.show()"
   ]
  },
  {
   "cell_type": "code",
   "execution_count": 172,
   "metadata": {
    "collapsed": true
   },
   "outputs": [],
   "source": [
    "img_pd = pd.DataFrame(img_1d_data, columns=['color'])\n",
    "\n",
    "img_pd['x'] = np.array(\n",
    "    [[i for i in range(img_bin_data.shape[1])] for _ in range(img_bin_data.shape[0])]\n",
    ").ravel()\n",
    "\n",
    "img_pd['y'] = np.array(\n",
    "    [[k for _ in range(img_bin_data.shape[1])] for k in range(img_bin_data.shape[0])]\n",
    ").ravel()\n",
    "\n",
    "img_pd['cluster'] = -1"
   ]
  },
  {
   "cell_type": "code",
   "execution_count": 176,
   "metadata": {
    "collapsed": false
   },
   "outputs": [
    {
     "name": "stdout",
     "output_type": "stream",
     "text": [
      "set([0, 1, 2, 3, 4, 5, 6, 7, 8, 9, 10, 11, 12, 13])\n"
     ]
    }
   ],
   "source": [
    "from sklearn.cluster import DBSCAN\n",
    "\n",
    "dbscan = DBSCAN(eps=2)\n",
    "clusters = dbscan.fit_predict(img_pd[img_pd['color'] == 1][['x', 'y']].values)\n",
    "img_pd.loc[img_pd['color'] == 1, 'cluster'] = clusters\n",
    "\n",
    "print set(clusters)"
   ]
  },
  {
   "cell_type": "code",
   "execution_count": 179,
   "metadata": {
    "collapsed": false
   },
   "outputs": [],
   "source": [
    "import random\n",
    "\n",
    "colors = {}\n",
    "for cl in set(clusters):\n",
    "    r = lambda: random.randint(0,255)\n",
    "    colors[cl] = '#%02X%02X%02X' % (r(),r(),r())\n",
    "colors[-1] = '#FFFFFF'\n",
    "\n",
    "def get_tuple_color(color_hex):\n",
    "    color = color_hex.lstrip('#')\n",
    "    return list(tuple(int(color[i:i+2], 16) for i in (0, 2 ,4))) + [255]"
   ]
  },
  {
   "cell_type": "code",
   "execution_count": 180,
   "metadata": {
    "collapsed": false
   },
   "outputs": [],
   "source": [
    "img_pd['color_hex'] = img_pd.cluster.apply(lambda x: colors[x])"
   ]
  },
  {
   "cell_type": "code",
   "execution_count": 206,
   "metadata": {
    "collapsed": false
   },
   "outputs": [],
   "source": [
    "def pandas_to_img(data, shape):\n",
    "    result_arr = np.zeros(shape)\n",
    "    for row in range(shape[0]):\n",
    "        for col in range(shape[1]):\n",
    "            result_arr[row, col] = \\\n",
    "                data[(data.x == col) & (data.y == row)].color_hex.apply(get_tuple_color).values[0]\n",
    "\n",
    "    return result_arr.astype(np.uint8)"
   ]
  },
  {
   "cell_type": "code",
   "execution_count": 195,
   "metadata": {
    "collapsed": false
   },
   "outputs": [],
   "source": [
    "img_clustered = pandas_to_img(img_pd, img_data.shape)"
   ]
  },
  {
   "cell_type": "code",
   "execution_count": 205,
   "metadata": {
    "collapsed": false
   },
   "outputs": [
    {
     "data": {
      "text/plain": [
       "<matplotlib.image.AxesImage at 0x114a2e750>"
      ]
     },
     "execution_count": 205,
     "metadata": {},
     "output_type": "execute_result"
    },
    {
     "data": {
      "image/png": "[encoded data removed]",
      "text/plain": [
       "<matplotlib.figure.Figure at 0x113dfc110>"
      ]
     },
     "metadata": {},
     "output_type": "display_data"
    }
   ],
   "source": [
    "imshow(img_clustered)"
   ]
  },
  {
   "cell_type": "code",
   "execution_count": null,
   "metadata": {
    "collapsed": true
   },
   "outputs": [],
   "source": []
  }
 ],
 "metadata": {
  "kernelspec": {
   "display_name": "Python 2",
   "language": "python",
   "name": "python2"
  },
  "language_info": {
   "codemirror_mode": {
    "name": "ipython",
    "version": 2
   },
   "file_extension": ".py",
   "mimetype": "text/x-python",
   "name": "python",
   "nbconvert_exporter": "python",
   "pygments_lexer": "ipython2",
   "version": "2.7.13"
  }
 },
 "nbformat": 4,
 "nbformat_minor": 1
}
